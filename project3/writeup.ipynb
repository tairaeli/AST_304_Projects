{
 "cells": [
  {
   "attachments": {},
   "cell_type": "markdown",
   "metadata": {},
   "source": [
    "![Group Logo](./MSU_Hollow_Earth_Society_Logo_v3.jpg)"
   ]
  },
  {
   "attachments": {},
   "cell_type": "markdown",
   "metadata": {},
   "source": [
    "# AST 304 Project 3 Writeup\n",
    "\n",
    "Elias Taira, Michael Bellaver, Joe Epley , Erin Syerson"
   ]
  },
  {
   "cell_type": "code",
   "execution_count": 10,
   "metadata": {},
   "outputs": [],
   "source": [
    "import numpy as np\n",
    "from structure import central_thermal, integrate\n",
    "from eos import mean_molecular_weight\n",
    "from zams import Teff, surface_luminosity\n",
    "from scipy.optimize import brentq\n",
    "import matplotlib.pyplot as plt"
   ]
  },
  {
   "attachments": {},
   "cell_type": "markdown",
   "metadata": {},
   "source": [
    "### 1) Verifying $P_c$ and $\\rho_c$ Scalings\n",
    "\n",
    "In verifying the scalings of $P_c$ and $\\rho_c$ that we found from project 2 (which are 0.77 ($\\alpha$) and 5.99 ($\\beta$) respectively), we adjust the polytropic constant by factors of 0.5 and 2 to see if the scalings change.\n",
    "\n",
    "To do so, we must first utilize project 2 code (which unfortunately make this repo way bigger than it was), then run the 'testing_central_consts.py' file we created, to ensure that $\\alpha$ and $\\beta$ remain constant."
   ]
  },
  {
   "cell_type": "code",
   "execution_count": 9,
   "metadata": {},
   "outputs": [
    {
     "name": "stdout",
     "output_type": "stream",
     "text": [
      "0.5 *K:\n",
      "\\alpha = 0.7695941638047205 \\beta = 5.987670533574357\n",
      "1.25 *K:\n",
      "\\alpha = 0.7695941638047196 \\beta = 5.98767053357435\n",
      "2.0 *K:\n",
      "\\alpha = 0.7695941638047192 \\beta = 5.9876705335743505\n"
     ]
    }
   ],
   "source": [
    "! python ./testing_central_consts.py"
   ]
  },
  {
   "attachments": {},
   "cell_type": "markdown",
   "metadata": {},
   "source": [
    "As we can see from the above code, the $\\alpha$ and $\\beta$ values remain constant."
   ]
  },
  {
   "attachments": {},
   "cell_type": "markdown",
   "metadata": {},
   "source": [
    "### Defining Physical Constants\n",
    "\n",
    "For our code, we define all of our physical and astronomical constants in the astro_const.py file. However, since we do not need to use all of the constants contained within the file for this writup, we will only be importing the values that we need."
   ]
  },
  {
   "cell_type": "code",
   "execution_count": 2,
   "metadata": {},
   "outputs": [],
   "source": [
    "from astro_const import Rsun, Msun"
   ]
  },
  {
   "attachments": {},
   "cell_type": "markdown",
   "metadata": {},
   "source": [
    "### Testing Modules\n",
    "\n",
    "In the following cell, we prove the functionality of the newly introduced functions via the *testing.py* script we were provided"
   ]
  },
  {
   "cell_type": "code",
   "execution_count": 6,
   "metadata": {},
   "outputs": [
    {
     "name": "stdout",
     "output_type": "stream",
     "text": [
      "chemistry passed testing\n",
      "adiabatic EOS passed testing\n",
      "reactions passed testing\n",
      "central temperature passed testing\n",
      "effective temperature passed testing\n",
      "surface luminosity passed testing\n"
     ]
    }
   ],
   "source": [
    "! python ./testing.py"
   ]
  },
  {
   "attachments": {},
   "cell_type": "markdown",
   "metadata": {},
   "source": [
    "### Convergence Testing"
   ]
  },
  {
   "cell_type": "code",
   "execution_count": null,
   "metadata": {},
   "outputs": [],
   "source": []
  },
  {
   "cell_type": "code",
   "execution_count": null,
   "metadata": {},
   "outputs": [],
   "source": []
  },
  {
   "attachments": {},
   "cell_type": "markdown",
   "metadata": {},
   "source": []
  },
  {
   "cell_type": "code",
   "execution_count": null,
   "metadata": {},
   "outputs": [],
   "source": []
  }
 ],
 "metadata": {
  "kernelspec": {
   "display_name": "base",
   "language": "python",
   "name": "python3"
  },
  "language_info": {
   "codemirror_mode": {
    "name": "ipython",
    "version": 3
   },
   "file_extension": ".py",
   "mimetype": "text/x-python",
   "name": "python",
   "nbconvert_exporter": "python",
   "pygments_lexer": "ipython3",
   "version": "3.8.13"
  },
  "orig_nbformat": 4,
  "vscode": {
   "interpreter": {
    "hash": "258996d679d8e259ac990df9fdfc128ec5eb77c39bd98f0b9ba2b9004f62dd43"
   }
  }
 },
 "nbformat": 4,
 "nbformat_minor": 2
}
