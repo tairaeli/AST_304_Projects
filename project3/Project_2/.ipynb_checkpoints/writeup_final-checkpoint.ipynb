{
 "cells": [
  {
   "cell_type": "markdown",
   "metadata": {},
   "source": [
    "![Group Logo](./MSU_Hollow_Earth_Society_Logo_v2.jpg)"
   ]
  },
  {
   "cell_type": "markdown",
   "metadata": {},
   "source": [
    "# AST 304 Project 2 Writeup\n",
    "\n",
    "Elias Taira, Michael Bellaver, Joe Epley , Erin Syerson"
   ]
  },
  {
   "cell_type": "code",
   "execution_count": 1,
   "metadata": {},
   "outputs": [],
   "source": [
    "import numpy as np\n",
    "import pandas as pd\n",
    "from structure import integrate\n",
    "from eos import density\n",
    "import matplotlib.pyplot as plt\n",
    "import scipy.optimize as op"
   ]
  },
  {
   "cell_type": "markdown",
   "metadata": {},
   "source": [
    "### Defining Physical Constants\n",
    "\n",
    "For our code, we define all of our physical and astronomical constants in the astro_const.py file. However, since we do not need to use all of the constants contained within the file for this writup, we will only be importing the values that we need."
   ]
  },
  {
   "cell_type": "code",
   "execution_count": 2,
   "metadata": {},
   "outputs": [],
   "source": [
    "from astro_const import Msun, Rsun, G"
   ]
  },
  {
   "cell_type": "markdown",
   "metadata": {},
   "source": [
    "### Implementing the Equation of State\n",
    "\n",
    "For the equations of state that we will be using to help us in our integration, we store them within the *eos.py* file within the functions *pressure* and *density*, which after taking in either the density or pressure depending on which function is being called, as well as the $\\mu_e$ (which we have decided to set to 2 for this assignment), will output the electron degeneracy pressure (in pascals) for pressure and the mass density (in $\\frac{kg}{m^3}$) for the density function.\n",
    "\n",
    "To validate these functions we ran the *test_eos.py* file which takes in an input of our *eos.py* file and validates that it is working properly."
   ]
  },
  {
   "cell_type": "code",
   "execution_count": 3,
   "metadata": {},
   "outputs": [
    {
     "name": "stdout",
     "output_type": "stream",
     "text": [
      "Comparing EOS to eos_table.txt...\n",
      "\n",
      "   rho (table)    rho (test)    difference       P (table)      P (test)    difference\n",
      "\n",
      "  1.000000e+05  1.000000e+05  5.820766e-16    6.810445e+14  6.810445e+14  0.000000e+00\n",
      "  1.123655e+05  1.123655e+05  2.590104e-16    8.271108e+14  8.271108e+14  7.556424e-16\n",
      "  1.262600e+05  1.262600e+05  1.037282e-15    1.004504e+15  1.004504e+15 -7.466368e-16\n",
      "  1.418727e+05  1.418727e+05  6.154215e-16    1.219944e+15  1.219944e+15  2.049274e-16\n",
      "  1.594159e+05  1.594159e+05  1.825654e-16    1.481591e+15  1.481591e+15  6.749502e-16\n",
      "  1.791284e+05  1.791284e+05  6.498986e-16    1.799353e+15  1.799353e+15 -1.389388e-16\n",
      "  2.012785e+05  2.012785e+05  7.229740e-16    2.185268e+15  2.185268e+15 -3.432074e-16\n",
      "  2.261676e+05  2.261676e+05  5.147303e-16    2.653950e+15  2.653950e+15  1.883984e-16\n",
      "  2.541343e+05  2.541343e+05  5.726073e-16    3.223153e+15  3.223153e+15  0.000000e+00\n",
      "  2.855592e+05  2.855592e+05  8.153497e-16    3.914436e+15  3.914436e+15 -3.831970e-16\n",
      "  3.208700e+05  3.208700e+05  5.442172e-16    4.753980e+15  4.753980e+15 -2.103501e-16\n",
      "  3.605471e+05  3.605471e+05  4.843278e-16    5.773585e+15  5.773585e+15  0.000000e+00\n",
      "  4.051305e+05  4.051305e+05  5.747053e-16    7.011868e+15  7.011868e+15 -1.426153e-16\n",
      "  4.552268e+05  4.552268e+05  5.114607e-16    8.515731e+15  8.515731e+15  1.174297e-16\n",
      "  5.115178e+05  5.115178e+05  7.965580e-16    1.034213e+16  1.034213e+16 -3.867674e-16\n",
      "  5.747694e+05  5.747694e+05  6.076279e-16    1.256025e+16  1.256025e+16 -1.592325e-16\n",
      "  6.458424e+05  6.458424e+05  5.407603e-16    1.525410e+16  1.525410e+16  0.000000e+00\n",
      "  7.257040e+05  7.257040e+05  6.416684e-16    1.852570e+16  1.852570e+16 -2.159163e-16\n",
      "  8.154407e+05  8.154407e+05  4.282910e-16    2.249898e+16  2.249898e+16  1.777858e-16\n",
      "  9.162739e+05  9.162739e+05  5.082119e-16    2.732442e+16  2.732442e+16  0.000000e+00\n",
      "  1.029576e+06  1.029576e+06  3.392135e-16    3.318480e+16  3.318480e+16  2.410742e-16\n",
      "  1.156888e+06  1.156888e+06  1.006280e-15    4.030207e+16  4.030207e+16 -5.955028e-16\n",
      "  1.299942e+06  1.299942e+06  5.373254e-16    4.894582e+16  4.894582e+16  0.000000e+00\n",
      "  1.460686e+06  1.460686e+06  3.187962e-16    5.944342e+16  5.944342e+16  4.037453e-16\n",
      "  1.641307e+06  1.641307e+06  5.674273e-16    7.219248e+16  7.219248e+16  0.000000e+00\n",
      "  1.844263e+06  1.844263e+06  5.049837e-16    8.767588e+16  8.767588e+16  1.824903e-16\n",
      "  2.072315e+06  2.072315e+06  6.741176e-16    1.064801e+17  1.064801e+17  0.000000e+00\n",
      "  2.328566e+06  2.328566e+06  3.999554e-16    1.293173e+17  1.293173e+17  4.949068e-16\n",
      "  2.616505e+06  2.616505e+06  5.339122e-16    1.570524e+17  1.570524e+17  2.037536e-16\n",
      "  2.940048e+06  2.940048e+06  6.335424e-16    1.907361e+17  1.907361e+17  0.000000e+00\n",
      "  3.303599e+06  3.303599e+06  4.228672e-16    2.316440e+17  2.316440e+17  2.762860e-16\n",
      "  3.712105e+06  3.712105e+06  5.017760e-16    2.813256e+17  2.813256e+17  0.000000e+00\n",
      "  4.171125e+06  4.171125e+06  5.581963e-16    3.416626e+17  3.416626e+17  0.000000e+00\n",
      "  4.686904e+06  4.686904e+06  3.974148e-16    4.149403e+17  4.149403e+17  3.084781e-16\n",
      "  5.266462e+06  5.266462e+06  5.305208e-16    5.039342e+17  5.039342e+17  1.270007e-16\n",
      "  5.917686e+06  5.917686e+06  7.868976e-16    6.120149e+17  6.120149e+17 -2.091452e-16\n",
      "  6.649436e+06  6.649436e+06  5.602415e-16    7.432761e+17  7.432761e+17  0.000000e+00\n",
      "  7.471671e+06  7.471671e+06  4.985887e-16    9.026895e+17  9.026895e+17  1.417985e-16\n",
      "  8.395579e+06  8.395579e+06  6.655807e-16    1.096293e+18  1.096293e+18 -1.167571e-16\n",
      "  9.433732e+06  9.433732e+06  5.923356e-16    1.331419e+18  1.331419e+18 -1.922761e-16\n",
      "  1.060026e+07  1.060026e+07  8.785848e-16    1.616974e+18  1.616974e+18 -6.332818e-16\n",
      "  1.191103e+07  1.191103e+07  4.691395e-16    1.963772e+18  1.963772e+18  3.910841e-16\n",
      "  1.338389e+07  1.338389e+07  1.113366e-15    2.384950e+18  2.384950e+18 -4.293591e-16\n",
      "  1.503887e+07  1.503887e+07  6.192770e-16    2.896460e+18  2.896460e+18 -1.767675e-16\n",
      "  1.689850e+07  1.689850e+07  8.818039e-16    3.517675e+18  3.517675e+18 -4.366521e-16\n",
      "  1.898808e+07  1.898808e+07  5.885730e-16    4.272124e+18  4.272124e+18 -2.396934e-16\n",
      "  2.133605e+07  2.133605e+07  5.238024e-16    5.188383e+18  5.188383e+18  1.973640e-16\n",
      "  2.397435e+07  2.397435e+07  7.769325e-16    6.301156e+18  6.301156e+18 -1.625099e-16\n",
      "  2.693889e+07  2.693889e+07  8.297201e-16    7.652589e+18  7.652589e+18 -4.014327e-16\n",
      "  3.027002e+07  3.027002e+07  7.384119e-16    9.293870e+18  9.293870e+18 -4.407206e-16\n",
      "  3.401305e+07  3.401305e+07  4.381013e-16    1.128716e+19  1.128716e+19  3.628901e-16\n",
      "  3.821893e+07  3.821893e+07  9.747240e-16    1.370796e+19  1.370796e+19 -5.976088e-16\n",
      "  4.294488e+07  4.294488e+07  6.939668e-16    1.664797e+19  1.664797e+19  0.000000e+00\n",
      "  4.825522e+07  4.825522e+07  3.087989e-16    2.021852e+19  2.021852e+19  4.051731e-16\n",
      "  5.422221e+07  5.422221e+07  5.496331e-16    2.455486e+19  2.455486e+19  1.668101e-16\n",
      "  6.092705e+07  6.092705e+07  6.114346e-16    2.982124e+19  2.982124e+19 -1.373518e-16\n",
      "  6.846097e+07  6.846097e+07  6.529777e-16    3.621712e+19  3.621712e+19 -1.130957e-16\n",
      "  7.692650e+07  7.692650e+07  5.811195e-16    4.398475e+19  4.398475e+19 -1.862464e-16\n",
      "  8.643883e+07  8.643883e+07  6.895587e-16    5.341833e+19  5.341833e+19  0.000000e+00\n",
      "  9.712740e+07  9.712740e+07  6.136749e-16    6.487516e+19  6.487516e+19  0.000000e+00\n",
      "  1.091377e+08  1.091377e+08  5.461418e-16    7.878919e+19  7.878919e+19  2.079473e-16\n",
      "  1.226331e+08  1.226331e+08  1.093591e-15    9.568742e+19  9.568742e+19 -5.136726e-16\n",
      "  1.377972e+08  1.377972e+08  6.488299e-16    1.162099e+20  1.162099e+20 -1.409863e-16\n",
      "  1.548365e+08  1.548365e+08  3.849521e-16    1.411339e+20  1.411339e+20  4.643535e-16\n",
      "  1.739828e+08  1.739828e+08  6.851786e-16    1.714034e+20  1.714034e+20 -1.911748e-16\n",
      "  1.954966e+08  1.954966e+08  3.048884e-16    2.081649e+20  2.081649e+20  4.722409e-16\n",
      "  2.196707e+08  2.196707e+08  8.140090e-16    2.528109e+20  2.528109e+20 -5.184587e-16\n",
      "  2.468340e+08  2.468340e+08  6.036915e-16    3.070322e+20  3.070322e+20  0.000000e+00\n",
      "  2.773563e+08  2.773563e+08  4.298057e-16    3.728826e+20  3.728826e+20  3.515101e-16\n",
      "  3.116527e+08  3.116527e+08  7.650137e-16    4.528562e+20  4.528562e+20 -2.894340e-16\n",
      "  3.501900e+08  3.501900e+08  6.808263e-16    5.499820e+20  5.499820e+20  0.000000e+00\n",
      "  3.934927e+08  3.934927e+08  6.059034e-16    6.679388e+20  6.679388e+20  0.000000e+00\n",
      "  4.421500e+08  4.421500e+08  6.740320e-16    8.111943e+20  8.111943e+20  0.000000e+00\n",
      "  4.968240e+08  4.968240e+08  7.198281e-16    9.851743e+20  9.851743e+20 -2.660890e-16\n",
      "  5.582586e+08  5.582586e+08  8.541510e-16    1.196468e+21  1.196468e+21  2.190981e-16\n",
      "  6.272900e+08  6.272900e+08  5.701157e-16    1.453080e+21  1.453080e+21  1.804058e-16\n",
      "  7.048574e+08  7.048574e+08  6.765016e-16    1.764727e+21  1.764727e+21  1.485465e-16\n",
      "  7.920164e+08  7.920164e+08  7.525683e-16    2.143215e+21  2.143215e+21  2.446268e-16\n",
      "  8.899530e+08  8.899530e+08  4.018503e-16    2.602879e+21  2.602879e+21  4.028524e-16\n",
      "  1.000000e+09  1.000000e+09  3.576279e-16    3.161129e+21  3.161129e+21  3.317094e-16\n",
      "\n",
      "SUCCESS: all values within tolerance\n"
     ]
    }
   ],
   "source": [
    "! python ./test_eos.py ./eos.py"
   ]
  },
  {
   "cell_type": "markdown",
   "metadata": {},
   "source": [
    "After running the above cell, we find that our equations of state are working as they should"
   ]
  },
  {
   "cell_type": "markdown",
   "metadata": {},
   "source": [
    "### Developing the Integration Method\n",
    "\n",
    "Now onto the step in which we run our integration. For this, we utilized the many functions stored within the *structure.py* file. The first function within the file, *stellar_derivatives*, takes in some mass, pressure, radius and $\\mu_e$ and then outputs the derivatives of radius and pressure respectively. This function within the integrate function. Next we have the *central_values* function which essentially just assist in setting up the initial conditions. The *lengthscales* function provides a variable stepsize to ensure that we do not integrate over areas outside of the star. Finally, we have the *integration* function where we actually perform the integration to obtain values for the mass, radius and pressure of the white dwarf as we iterate from the center to the edge of the dwarf."
   ]
  },
  {
   "cell_type": "markdown",
   "metadata": {},
   "source": [
    "### Building the Mass-Radius Table"
   ]
  },
  {
   "cell_type": "code",
   "execution_count": 9,
   "metadata": {},
   "outputs": [],
   "source": [
    "def mass_finder(Pc, wanted_mass, delta_m, eta, xi, mue):\n",
    "\n",
    "    m_step, r_step, p_step = integrate(Pc,delta_m,eta,xi,mue)\n",
    "\n",
    "    return wanted_mass - m_step[-1]\n",
    "\n",
    "mass_array = np.arange(0.1, 1.1, 0.1)\n",
    "\n",
    "# Setting some initial conditions\n",
    "mue = 2\n",
    "\n",
    "eta = 1e-10\n",
    "\n",
    "xi = 0.05\n",
    "\n",
    "r_array = np.zeros_like(mass_array)\n",
    "\n",
    "Pc_array = np.zeros_like(mass_array)\n",
    "\n",
    "Pc_mod_array = np.zeros_like(mass_array)\n",
    "\n",
    "rho_array = np.zeros_like(mass_array)\n",
    "\n",
    "rho_mod_array = np.zeros_like(mass_array)\n",
    "\n",
    "for i in range(len(mass_array)):\n",
    "\n",
    "    # converting mass to units of kg\n",
    "    Smass = Msun * mass_array[i]\n",
    "    \n",
    "    delta_m = Smass*1e-6\n",
    "\n",
    "    desired_pressure = op.bisect(mass_finder, a = 1e19, b = 1e23, xtol = 1e-10, args = (Smass, delta_m, eta, xi, mue))\n",
    "\n",
    "    m, r, p = integrate(desired_pressure,delta_m,eta,xi,mue)\n",
    "\n",
    "    r_array[i] = r[-1]/Rsun\n",
    "\n",
    "    Pc_array[i] = desired_pressure\n",
    "\n",
    "    Pc_mod_array[i] = desired_pressure/(G*Smass**2*r[-1]**(-4))\n",
    "\n",
    "    rho_array[i] = density(desired_pressure, mue)\n",
    "\n",
    "    rho_mod_array[i] = density(desired_pressure, mue)/(3*Smass/(4*np.pi*r[-1]**3))\n"
   ]
  },
  {
   "cell_type": "markdown",
   "metadata": {},
   "source": [
    "For $\\xi$, once the value is above 1.75, it starts to iterate over empty space, which begins to return negative pressures, and if $\\xi$ is lower than approximately 0.003 it begins to take too many iterations. We found that $\\delta m$ is very generous, but it wouldn't make sense to do numbers that are bigger than the mass of one of the white dwarfs because $\\delta m$ is meant to be a value smaller than the total mass of a white dwarf, that is a replacement for 0, because setting the central mass to 0 would break the math. When it comes to $\\eta$, if it is too large we won't integrate to the pressure at the surface of the star, and if it is too small then it will integrate past the surface of the star and into empty space where we will recieve negative pressures. For central pressure and density, when you increase $\\delta m$ central pressure will decrease and density will increase and vice versa."
   ]
  },
  {
   "cell_type": "code",
   "execution_count": 10,
   "metadata": {},
   "outputs": [
    {
     "data": {
      "text/html": [
       "<div>\n",
       "<style scoped>\n",
       "    .dataframe tbody tr th:only-of-type {\n",
       "        vertical-align: middle;\n",
       "    }\n",
       "\n",
       "    .dataframe tbody tr th {\n",
       "        vertical-align: top;\n",
       "    }\n",
       "\n",
       "    .dataframe thead th {\n",
       "        text-align: right;\n",
       "    }\n",
       "</style>\n",
       "<table border=\"1\" class=\"dataframe\">\n",
       "  <thead>\n",
       "    <tr style=\"text-align: right;\">\n",
       "      <th></th>\n",
       "      <th>M/Msun</th>\n",
       "      <th>$R/R_\\odot$</th>\n",
       "      <th>$P_c$</th>\n",
       "      <th>$P_c$ mod</th>\n",
       "      <th>$\\rho$</th>\n",
       "      <th>$\\rho$ mod</th>\n",
       "    </tr>\n",
       "  </thead>\n",
       "  <tbody>\n",
       "    <tr>\n",
       "      <th>0</th>\n",
       "      <td>0.1</td>\n",
       "      <td>0.027492</td>\n",
       "      <td>1.517726e+19</td>\n",
       "      <td>0.769594</td>\n",
       "      <td>4.062662e+07</td>\n",
       "      <td>5.987671</td>\n",
       "    </tr>\n",
       "    <tr>\n",
       "      <th>1</th>\n",
       "      <td>0.2</td>\n",
       "      <td>0.021820</td>\n",
       "      <td>1.529771e+20</td>\n",
       "      <td>0.769594</td>\n",
       "      <td>1.625065e+08</td>\n",
       "      <td>5.987671</td>\n",
       "    </tr>\n",
       "    <tr>\n",
       "      <th>2</th>\n",
       "      <td>0.3</td>\n",
       "      <td>0.019062</td>\n",
       "      <td>5.910135e+20</td>\n",
       "      <td>0.769594</td>\n",
       "      <td>3.656395e+08</td>\n",
       "      <td>5.987671</td>\n",
       "    </tr>\n",
       "    <tr>\n",
       "      <th>3</th>\n",
       "      <td>0.4</td>\n",
       "      <td>0.017319</td>\n",
       "      <td>1.541913e+21</td>\n",
       "      <td>0.769594</td>\n",
       "      <td>6.500258e+08</td>\n",
       "      <td>5.987671</td>\n",
       "    </tr>\n",
       "    <tr>\n",
       "      <th>4</th>\n",
       "      <td>0.5</td>\n",
       "      <td>0.016077</td>\n",
       "      <td>3.244093e+21</td>\n",
       "      <td>0.769594</td>\n",
       "      <td>1.015665e+09</td>\n",
       "      <td>5.987671</td>\n",
       "    </tr>\n",
       "    <tr>\n",
       "      <th>5</th>\n",
       "      <td>0.6</td>\n",
       "      <td>0.015129</td>\n",
       "      <td>5.957043e+21</td>\n",
       "      <td>0.769594</td>\n",
       "      <td>1.462558e+09</td>\n",
       "      <td>5.987671</td>\n",
       "    </tr>\n",
       "    <tr>\n",
       "      <th>6</th>\n",
       "      <td>0.7</td>\n",
       "      <td>0.014371</td>\n",
       "      <td>9.958334e+21</td>\n",
       "      <td>0.769594</td>\n",
       "      <td>1.990704e+09</td>\n",
       "      <td>5.987671</td>\n",
       "    </tr>\n",
       "    <tr>\n",
       "      <th>7</th>\n",
       "      <td>0.8</td>\n",
       "      <td>0.013746</td>\n",
       "      <td>1.554151e+22</td>\n",
       "      <td>0.769594</td>\n",
       "      <td>2.600103e+09</td>\n",
       "      <td>5.987671</td>\n",
       "    </tr>\n",
       "    <tr>\n",
       "      <th>8</th>\n",
       "      <td>0.9</td>\n",
       "      <td>0.013217</td>\n",
       "      <td>2.301450e+22</td>\n",
       "      <td>0.769594</td>\n",
       "      <td>3.290756e+09</td>\n",
       "      <td>5.987671</td>\n",
       "    </tr>\n",
       "    <tr>\n",
       "      <th>9</th>\n",
       "      <td>1.0</td>\n",
       "      <td>0.012760</td>\n",
       "      <td>3.269841e+22</td>\n",
       "      <td>0.769594</td>\n",
       "      <td>4.062662e+09</td>\n",
       "      <td>5.987671</td>\n",
       "    </tr>\n",
       "  </tbody>\n",
       "</table>\n",
       "</div>"
      ],
      "text/plain": [
       "   M/Msun  $R/R_\\odot$         $P_c$  $P_c$ mod        $\\rho$  $\\rho$ mod\n",
       "0     0.1     0.027492  1.517726e+19   0.769594  4.062662e+07    5.987671\n",
       "1     0.2     0.021820  1.529771e+20   0.769594  1.625065e+08    5.987671\n",
       "2     0.3     0.019062  5.910135e+20   0.769594  3.656395e+08    5.987671\n",
       "3     0.4     0.017319  1.541913e+21   0.769594  6.500258e+08    5.987671\n",
       "4     0.5     0.016077  3.244093e+21   0.769594  1.015665e+09    5.987671\n",
       "5     0.6     0.015129  5.957043e+21   0.769594  1.462558e+09    5.987671\n",
       "6     0.7     0.014371  9.958334e+21   0.769594  1.990704e+09    5.987671\n",
       "7     0.8     0.013746  1.554151e+22   0.769594  2.600103e+09    5.987671\n",
       "8     0.9     0.013217  2.301450e+22   0.769594  3.290756e+09    5.987671\n",
       "9     1.0     0.012760  3.269841e+22   0.769594  4.062662e+09    5.987671"
      ]
     },
     "execution_count": 10,
     "metadata": {},
     "output_type": "execute_result"
    }
   ],
   "source": [
    "mr_table = pd.DataFrame()\n",
    "\n",
    "mr_table[\"M/Msun\"] = mass_array\n",
    "\n",
    "mr_table[r\"$R/R_\\odot$\"] = r_array\n",
    "\n",
    "mr_table[r\"$P_c$\"] = Pc_array\n",
    "\n",
    "mr_table[r\"$P_c$ mod\"] = Pc_mod_array\n",
    "\n",
    "mr_table[r\"$\\rho$\"] = rho_array\n",
    "\n",
    "mr_table[r\"$\\rho$ mod\"] = rho_mod_array\n",
    "\n",
    "mr_table\n"
   ]
  },
  {
   "cell_type": "markdown",
   "metadata": {},
   "source": [
    "### Comparing to Observations"
   ]
  },
  {
   "cell_type": "code",
   "execution_count": 11,
   "metadata": {},
   "outputs": [],
   "source": [
    "from observations import MassRadiusObservations"
   ]
  },
  {
   "cell_type": "code",
   "execution_count": 25,
   "metadata": {},
   "outputs": [
    {
     "data": {
      "text/plain": [
       "<matplotlib.legend.Legend at 0x1e7ca32ab50>"
      ]
     },
     "execution_count": 25,
     "metadata": {},
     "output_type": "execute_result"
    },
    {
     "data": {
      "image/png": "[encoded data removed]",
      "text/plain": [
       "<Figure size 1080x720 with 1 Axes>"
      ]
     },
     "metadata": {
      "needs_background": "light"
     },
     "output_type": "display_data"
    }
   ],
   "source": [
    "obs = MassRadiusObservations()\n",
    "\n",
    "plt.figure(figsize = ([15,10]))\n",
    "\n",
    "plt.errorbar(x = obs.masses, y = obs.radii, xerr = obs.mass_errors, yerr = obs.radius_errors, ls = 'none', label = \"Joyce et al. (2018)\", color = \"green\")\n",
    "plt.scatter(x = obs.masses, y = obs.radii, marker = \"*\", color = \"black\")\n",
    "plt.plot(mr_table[\"M/Msun\"], mr_table[r\"$R/R_\\odot$\"]*100, label = \"Simulated Data\")\n",
    "plt.xlabel(r\"Mass ($M_\\odot$)\")\n",
    "plt.ylabel(r\"Radius ($0.01R_\\odot$)\")\n",
    "plt.title(\"Observational vs Simulated Data\")\n",
    "plt.grid()\n",
    "plt.legend()"
   ]
  },
  {
   "cell_type": "markdown",
   "metadata": {},
   "source": [
    "While this model is not perfect, it does seem realistic in that it appears to follow the trends set by actual data collected on real life white dwarves. One of the largest aspects of the model that is not realistic is that the starting values for calculations are not zero, as doing so would break the formulas used to calculate the final values. Additionally, this model only works when temperature is “sufficiently low”, giving it properties of an ideal, degenerate, non-relativistic gas. The largest assumption made in this model is that the nucleon-to-electron ratio (mue in the code) is 2."
   ]
  }
 ],
 "metadata": {
  "kernelspec": {
   "display_name": "Python 3",
   "language": "python",
   "name": "python3"
  },
  "language_info": {
   "codemirror_mode": {
    "name": "ipython",
    "version": 3
   },
   "file_extension": ".py",
   "mimetype": "text/x-python",
   "name": "python",
   "nbconvert_exporter": "python",
   "pygments_lexer": "ipython3",
   "version": "3.8.13"
  },
  "vscode": {
   "interpreter": {
    "hash": "258996d679d8e259ac990df9fdfc128ec5eb77c39bd98f0b9ba2b9004f62dd43"
   }
  }
 },
 "nbformat": 4,
 "nbformat_minor": 2
}
