{
 "cells": [
  {
   "cell_type": "markdown",
   "metadata": {},
   "source": [
    "![Group Logo](./MSU_Hollow_Earth_Society_Logo_v3.jpg)"
   ]
  },
  {
   "cell_type": "markdown",
   "metadata": {},
   "source": [
    "# AST 304 Project 3 Writeup\n",
    "\n",
    "Elias Taira, Michael Bellaver, Joe Epley , Erin Syerson"
   ]
  },
  {
   "cell_type": "code",
   "execution_count": 29,
   "metadata": {},
   "outputs": [],
   "source": [
    "import numpy as np\n",
    "from structure import central_thermal, integrate\n",
    "from eos import mean_molecular_weight\n",
    "from zams import Teff, surface_luminosity\n",
    "from scipy.optimize import brentq\n",
    "import matplotlib.pyplot as plt\n",
    "%matplotlib inline"
   ]
  },
  {
   "cell_type": "markdown",
   "metadata": {},
   "source": [
    "### 1) Verifying $P_c$ and $\\rho_c$ Scalings\n",
    "\n",
    "In verifying the scalings of $P_c$ and $\\rho_c$ that we found from project 2 (which are 0.77 ($\\alpha$) and 5.99 ($\\beta$) respectively), we adjust the polytropic constant by factors of 0.5 and 2 to see if the scalings change.\n",
    "\n",
    "To do so, we must first utilize project 2 code (which unfortunately make this repo way bigger than it was), then run the 'testing_central_consts.py' file we created, to ensure that $\\alpha$ and $\\beta$ remain constant."
   ]
  },
  {
   "cell_type": "code",
   "execution_count": 45,
   "metadata": {},
   "outputs": [
    {
     "name": "stdout",
     "output_type": "stream",
     "text": [
      "0.5 * K:\n",
      "\\alpha = 0.7695941638047205 \\beta = 5.987670533574357\n",
      "1.25 * K:\n",
      "\\alpha = 0.7695941638047196 \\beta = 5.98767053357435\n",
      "2.0 * K:\n",
      "\\alpha = 0.7695941638047192 \\beta = 5.9876705335743505\n"
     ]
    }
   ],
   "source": [
    "! python ./testing_central_consts.py"
   ]
  },
  {
   "cell_type": "markdown",
   "metadata": {},
   "source": [
    "As we can see from the above code, the $\\alpha$ and $\\beta$ values remain constant."
   ]
  },
  {
   "cell_type": "markdown",
   "metadata": {},
   "source": [
    "### Defining Physical Constants\n",
    "\n",
    "For our code, we define all of our physical and astronomical constants in the astro_const.py file. However, since we do not need to use all of the constants contained within the file for this writup, we will only be importing the values that we need."
   ]
  },
  {
   "cell_type": "code",
   "execution_count": 30,
   "metadata": {},
   "outputs": [],
   "source": [
    "from astro_const import Rsun, Msun, Lsun"
   ]
  },
  {
   "cell_type": "markdown",
   "metadata": {},
   "source": [
    "### Testing Modules\n",
    "\n",
    "In the following cell, we prove the functionality of the newly introduced functions via the *testing.py* script we were provided"
   ]
  },
  {
   "cell_type": "code",
   "execution_count": 31,
   "metadata": {},
   "outputs": [
    {
     "name": "stdout",
     "output_type": "stream",
     "text": [
      "chemistry passed testing\n",
      "adiabatic EOS passed testing\n",
      "reactions passed testing\n",
      "central temperature passed testing\n",
      "effective temperature passed testing\n",
      "surface luminosity passed testing\n"
     ]
    }
   ],
   "source": [
    "! python ./testing.py"
   ]
  },
  {
   "cell_type": "markdown",
   "metadata": {},
   "source": [
    "### Convergence Testing"
   ]
  },
  {
   "cell_type": "markdown",
   "metadata": {},
   "source": [
    "When adjusting $\\delta_m$ we lowered it until we got converged values and then put it to the first value, $M_\\odot \\times 10^{-18}$, that gave us those converged values.\n",
    "\n",
    "For our choice of $\\eta$ we went with a value that would allow us to get a lower pressure when integrated to the surface of the star.\n",
    "\n",
    "For $\\xi$, once the value is above 1.75, it starts to iterate over empty space, which begins to return negative pressures, and if $\\xi$ is lower than approximately 0.003 it begins to take too many iterations."
   ]
  },
  {
   "cell_type": "markdown",
   "metadata": {},
   "source": [
    "### Results"
   ]
  },
  {
   "cell_type": "code",
   "execution_count": 32,
   "metadata": {},
   "outputs": [
    {
     "name": "stdout",
     "output_type": "stream",
     "text": [
      "0.3113666213832169\n",
      "0.011671449011444983\n"
     ]
    }
   ],
   "source": [
    "# using the constants from the last project\n",
    "delta_m = Msun*1e-18\n",
    "eta = 1e-20\n",
    "xi = 5e-2\n",
    "\n",
    "pp_thing = 1\n",
    "\n",
    "# mass ratio of hydrogen\n",
    "XH = 0.706\n",
    "\n",
    "# z, x, and a arrays for the makeup of the star\n",
    "Z = np.array([1,2,7])\n",
    "A = np.array([1,4, 14])\n",
    "X = np.array([XH, 0.275, 0.019])\n",
    "\n",
    "mu = mean_molecular_weight(Z,A,X)\n",
    "\n",
    "# defining the minimizing function\n",
    "def min_this(R_guess, S_mass, delta_m, eta, xi, mu, pp):\n",
    "    \n",
    "    '''\n",
    "    minimizes the difference between the surface luminosity\n",
    "        and the luminosity from the nuclear reactions \n",
    "        at the center of the star\n",
    "        \n",
    "    arguments:\n",
    "        R_guess (scalar)\n",
    "            guess for the final radius\n",
    "        S_mass (scalar)\n",
    "            mass of the given star\n",
    "        delta_m (scalar)\n",
    "            steps for integrating through mass\n",
    "        eta (scalar)\n",
    "            determines the stopping point of the iterations\n",
    "        xi (scalar)\n",
    "            helps determine step size\n",
    "        mu (scalar)\n",
    "            mean molecular weight\n",
    "            \n",
    "    returns:\n",
    "        L_want - l[-1]\n",
    "            difference in luminosities mentioned above\n",
    "    '''\n",
    "\n",
    "    Pc, rhoc, Tc = central_thermal(S_mass, R_guess, mu)\n",
    "\n",
    "    m, r, p, l = integrate(Pc,rhoc,Tc,delta_m,eta,xi,mu,pp_factor = pp)\n",
    "\n",
    "    # calculating desired radius\n",
    "    L_want = surface_luminosity(Teff(S_mass*Msun),r[-1])\n",
    "\n",
    "    return L_want - l[-1]\n",
    "\n",
    "# list of masses we are using\n",
    "mass_list = np.array([0.1, 0.15, 0.2, 0.3])\n",
    "\n",
    "# initializing a ton of stuff\n",
    "L_list = np.zeros(len(mass_list))\n",
    "Teff_list = np.zeros(len(mass_list))\n",
    "rhoc_list = np.zeros(len(mass_list))\n",
    "Tc_list = np.zeros(len(mass_list))\n",
    "R_list = np.zeros(len(mass_list))\n",
    "\n",
    "# iterates through all of masses and finds the wanted luminosities\n",
    "for i,S_mass in enumerate(mass_list):\n",
    "    \n",
    "    R_final = brentq(min_this,a = 0.0001, b = 1, args = (S_mass, delta_m, eta, xi, mu, pp_thing))\n",
    "\n",
    "    T_surf = Teff(S_mass)\n",
    "\n",
    "    Teff_list[i] = T_surf\n",
    "\n",
    "    L_list[i] = surface_luminosity(T_surf,R_final*Rsun)/Lsun\n",
    "\n",
    "    Pc, rhoc, Tc = central_thermal(S_mass, R_final, mu)\n",
    "\n",
    "    rhoc_list[i] = 1000*rhoc/(100**3)\n",
    "\n",
    "    Tc_list[i] = Tc\n",
    "\n",
    "    R_list[i] = R_final\n",
    "\n",
    "print(R_final)\n",
    "print(L_list[-1])"
   ]
  },
  {
   "cell_type": "code",
   "execution_count": 56,
   "metadata": {},
   "outputs": [
    {
     "name": "stdout",
     "output_type": "stream",
     "text": [
      "Masses from left to right are: 0.1, 0.15, 0.2, 0.3, all in solar masses\n"
     ]
    },
    {
     "data": {
      "image/png": "[encoded data removed]",
      "text/plain": [
       "<Figure size 504x360 with 1 Axes>"
      ]
     },
     "metadata": {
      "needs_background": "light"
     },
     "output_type": "display_data"
    }
   ],
   "source": [
    "# plotting the HR Diagram\n",
    "import matplotlib.pyplot as plt\n",
    "\n",
    "plt.figure(figsize = (7,5))\n",
    "plt.scatter(np.log10(Teff_list), np.log10(L_list), color = 'gold',  marker = '*', s = [200,200,200,200])\n",
    "plt.plot(np.log10(Teff_list), np.log10(L_list), color = 'purple')\n",
    "plt.title(\"The HR Diagram - Low End of Main Seqence\")\n",
    "plt.xlabel(r\"log($T_{eff}/K$)\")\n",
    "plt.ylabel(r\"log($L/L_\\odot$)\")\n",
    "plt.xlim(max(np.log10(Teff_list))+.008, min(np.log10(Teff_list))-.008)\n",
    "plt.grid()\n",
    "plt.tight_layout()\n",
    "print('Masses from left to right are: 0.1, 0.15, 0.2, 0.3, all in solar masses')"
   ]
  },
  {
   "cell_type": "markdown",
   "metadata": {},
   "source": [
    "![HR Diagram](./fig15.jpg)"
   ]
  },
  {
   "cell_type": "markdown",
   "metadata": {},
   "source": [
    "In comparing the two plots together, the specified stellar mass range appears to be very similar to the data shown by Paxton et al."
   ]
  },
  {
   "cell_type": "code",
   "execution_count": 34,
   "metadata": {},
   "outputs": [
    {
     "data": {
      "image/png": "[encoded data removed]",
      "text/plain": [
       "<Figure size 504x360 with 1 Axes>"
      ]
     },
     "metadata": {
      "needs_background": "light"
     },
     "output_type": "display_data"
    }
   ],
   "source": [
    "# plotting central temp and pressure for a 0.3 mass star\n",
    "plt.figure(figsize = (7,5))\n",
    "plt.plot(np.log10(rhoc_list), np.log10(Tc_list), color = 'purple')\n",
    "\n",
    "plt.title(r\"$T_c$ vs $\\rho_c$\")\n",
    "plt.xlabel(r\"log($\\rho_c /g$ $cm^{-3}$)\")\n",
    "plt.ylabel(r\"log($T_c/K$)\")\n",
    "plt.tight_layout()\n",
    "plt.grid()"
   ]
  },
  {
   "cell_type": "markdown",
   "metadata": {},
   "source": [
    "![Central Temperature vs. Central Density](./fig16.jpg)"
   ]
  },
  {
   "cell_type": "markdown",
   "metadata": {},
   "source": [
    "In comparing the two plots together, the Central Temperature vs Central Denstiy we generated appears to be very similar to the data shown by Paxton et al."
   ]
  },
  {
   "cell_type": "code",
   "execution_count": 35,
   "metadata": {},
   "outputs": [
    {
     "name": "stderr",
     "output_type": "stream",
     "text": [
      "C:\\Users\\Michael\\School\\ast304-F22\\AST_304_Projects\\project3\\structure.py:141: RuntimeWarning: overflow encountered in true_divide\n",
      "  H_z = z/np.abs(dzdm)\n",
      "C:\\Users\\Michael\\School\\ast304-F22\\AST_304_Projects\\project3\\structure.py:141: RuntimeWarning: divide by zero encountered in true_divide\n",
      "  H_z = z/np.abs(dzdm)\n"
     ]
    }
   ],
   "source": [
    "R_final = brentq(min_this,a = 0.01, b = 1, xtol = 1e-10,args = (.3, delta_m, eta, xi, mu, pp_thing))\n",
    "Pc, rhoc, Tc = central_thermal(.3, R_final, mu)\n",
    "m, r, p, l = integrate(Pc,rhoc,Tc,delta_m,eta,xi,mu,pp_factor = pp_thing)"
   ]
  },
  {
   "cell_type": "code",
   "execution_count": 36,
   "metadata": {},
   "outputs": [
    {
     "data": {
      "image/png": "[encoded data removed]",
      "text/plain": [
       "<Figure size 504x360 with 1 Axes>"
      ]
     },
     "metadata": {
      "needs_background": "light"
     },
     "output_type": "display_data"
    }
   ],
   "source": [
    "# plotting mass and luminosity for a 0.3 mass star\n",
    "plt.figure(figsize = (7,5))\n",
    "plt.plot(m/1.989e30,l/3.828e26, color = 'purple')\n",
    "plt.title('0.3 $M_{\\odot}$')\n",
    "plt.suptitle('Mass vs Luminosity')\n",
    "plt.xlabel('Mass [$M_{\\odot}$]')\n",
    "plt.ylabel('Luminosity [$L_{\\odot}$]')\n",
    "plt.tight_layout()\n",
    "plt.grid()"
   ]
  },
  {
   "cell_type": "code",
   "execution_count": 37,
   "metadata": {},
   "outputs": [
    {
     "data": {
      "image/png": "[encoded data removed]",
      "text/plain": [
       "<Figure size 504x360 with 1 Axes>"
      ]
     },
     "metadata": {
      "needs_background": "light"
     },
     "output_type": "display_data"
    }
   ],
   "source": [
    "# plotting radius and luminosity for a 0.3 mass star\n",
    "plt.figure(figsize = (7,5))\n",
    "plt.plot(r/6.957e8,l/3.828e26, color = 'purple')\n",
    "plt.suptitle('Radius vs Luminosity')\n",
    "plt.title('0.3 $M_{\\odot}$')\n",
    "plt.xlabel('Radius [$R_{\\odot}$]')\n",
    "plt.ylabel('Luminosity [$L_{\\odot}$]')\n",
    "plt.tight_layout()\n",
    "plt.grid()"
   ]
  },
  {
   "cell_type": "code",
   "execution_count": 38,
   "metadata": {},
   "outputs": [
    {
     "name": "stdout",
     "output_type": "stream",
     "text": [
      "90% radius: 0.12124 solar radii\n",
      "90% radius: 84348145.29 meters\n",
      "\n",
      "check to match instructions:  0.3954\n"
     ]
    }
   ],
   "source": [
    "# finding the radius when the luminosity is at 90%\n",
    "ninety_rad = r[np.max(np.where(l <= np.max(l)*0.9))]\n",
    "\n",
    "print('90% radius:', round(ninety_rad/6.957e8,5), 'solar radii')\n",
    "print('90% radius:', round(ninety_rad,2), 'meters')\n",
    "\n",
    "print('\\ncheck to match instructions: ', round(ninety_rad/r[-1],4))"
   ]
  },
  {
   "cell_type": "code",
   "execution_count": 39,
   "metadata": {},
   "outputs": [
    {
     "name": "stdout",
     "output_type": "stream",
     "text": [
      "90% mass: 0.2644 solar masses\n",
      "90% mass: 1.5772079912820235e+29 kg\n",
      "\n",
      "check to match instructions:  0.2702\n"
     ]
    }
   ],
   "source": [
    "# finding the mass when the luminosity is at 90%\n",
    "ninety_mass = m[np.max(np.where(l <= np.max(l)*0.9))]\n",
    "\n",
    "print('90% mass:', round(ninety_mass/(.3*Msun),5), 'solar masses')\n",
    "print('90% mass:', round(ninety_mass, -3), 'kg')\n",
    "\n",
    "print('\\ncheck to match instructions: ', round(ninety_mass/m[-1],4))"
   ]
  },
  {
   "cell_type": "code",
   "execution_count": 40,
   "metadata": {},
   "outputs": [],
   "source": [
    "T = Tc*(p/Pc)**(1-1/(5/3))"
   ]
  },
  {
   "cell_type": "code",
   "execution_count": 41,
   "metadata": {},
   "outputs": [
    {
     "data": {
      "image/png": "[encoded data removed]",
      "text/plain": [
       "<Figure size 504x360 with 1 Axes>"
      ]
     },
     "metadata": {
      "needs_background": "light"
     },
     "output_type": "display_data"
    }
   ],
   "source": [
    "# plotting radius and temperature for a 0.3 mass star\n",
    "plt.figure(figsize = (7,5))\n",
    "plt.plot(r/6.957e8,T, color = 'purple')\n",
    "plt.xlabel('Radius [$R_{\\odot}$]')\n",
    "plt.ylabel('Temperature [K]')\n",
    "plt.suptitle('Radius vs Temperature')\n",
    "plt.title('0.3 $M_{\\odot}$')\n",
    "plt.tight_layout()\n",
    "plt.grid()"
   ]
  },
  {
   "cell_type": "code",
   "execution_count": 42,
   "metadata": {
    "scrolled": false
   },
   "outputs": [
    {
     "data": {
      "image/png": "[encoded data removed]",
      "text/plain": [
       "<Figure size 504x360 with 1 Axes>"
      ]
     },
     "metadata": {
      "needs_background": "light"
     },
     "output_type": "display_data"
    }
   ],
   "source": [
    "# plotting mass and temperature for a 0.3 mass star\n",
    "plt.figure(figsize = (7,5))\n",
    "plt.plot(m/1.989e30,T, color = 'purple')\n",
    "plt.xlabel('Mass [$M_{\\odot}$]')\n",
    "plt.ylabel('Temperature [K]')\n",
    "plt.suptitle('Mass vs Temperature')\n",
    "plt.title('0.3 $M_{\\odot}$')\n",
    "plt.tight_layout()\n",
    "plt.grid()"
   ]
  },
  {
   "cell_type": "markdown",
   "metadata": {},
   "source": [
    "### What Would Happen?"
   ]
  },
  {
   "cell_type": "code",
   "execution_count": 43,
   "metadata": {},
   "outputs": [
    {
     "name": "stderr",
     "output_type": "stream",
     "text": [
      "C:\\Users\\Michael\\School\\ast304-F22\\AST_304_Projects\\project3\\structure.py:141: RuntimeWarning: overflow encountered in true_divide\n",
      "  H_z = z/np.abs(dzdm)\n",
      "C:\\Users\\Michael\\School\\ast304-F22\\AST_304_Projects\\project3\\structure.py:141: RuntimeWarning: divide by zero encountered in true_divide\n",
      "  H_z = z/np.abs(dzdm)\n"
     ]
    },
    {
     "name": "stdout",
     "output_type": "stream",
     "text": [
      "2.753199502203825\n",
      "7.580107498949242\n"
     ]
    }
   ],
   "source": [
    "# using the constants from the last project\n",
    "delta_m = Msun*1e-18\n",
    "eta = 1e-20\n",
    "xi = 5e-2\n",
    "\n",
    "pp_thing = 1e5\n",
    "\n",
    "# mass ratio of hydrogen\n",
    "XH = 0.706\n",
    "\n",
    "# z, x, and a arrays for the makeup of the star\n",
    "Z = np.array([1,2,7])\n",
    "A = np.array([1,4, 14])\n",
    "X = np.array([XH, 0.275, 0.019])\n",
    "\n",
    "mu = mean_molecular_weight(Z,A,X)\n",
    "\n",
    "# defining the minimizing function\n",
    "def min_this(R_guess, S_mass, delta_m, eta, xi, mu, pp):\n",
    "    \n",
    "    '''\n",
    "    minimizes the difference between the surface luminosity\n",
    "        and the luminosity from the nuclear reactions \n",
    "        at the center of the star\n",
    "        \n",
    "    arguments:\n",
    "        R_guess (scalar)\n",
    "            guess for the final radius\n",
    "        S_mass (scalar)\n",
    "            mass of the given star\n",
    "        delta_m (scalar)\n",
    "            steps for integrating through mass\n",
    "        eta (scalar)\n",
    "            determines the stopping point of the iterations\n",
    "        xi (scalar)\n",
    "            helps determine step size\n",
    "        mu (scalar)\n",
    "            mean molecular weight\n",
    "            \n",
    "    returns:\n",
    "        L_want - l[-1]\n",
    "            difference in luminosities mentioned above\n",
    "    '''\n",
    "\n",
    "    Pc, rhoc, Tc = central_thermal(S_mass, R_guess, mu)\n",
    "\n",
    "    m, r, p, l = integrate(Pc,rhoc,Tc,delta_m,eta,xi,mu,pp_factor = pp)\n",
    "\n",
    "    # calculating desired radius\n",
    "    L_want = surface_luminosity(Teff(S_mass*Msun),r[-1])\n",
    "\n",
    "    return L_want - l[-1]\n",
    "\n",
    "# list of masses we are using\n",
    "mass_list = np.array([0.1, 0.15, 0.2, 0.3])\n",
    "\n",
    "# initializing a ton of stuff\n",
    "L_list2 = np.zeros(len(mass_list))\n",
    "Teff_list2 = np.zeros(len(mass_list))\n",
    "rhoc_list2 = np.zeros(len(mass_list))\n",
    "Tc_list2 = np.zeros(len(mass_list))\n",
    "R_list2 = np.zeros(len(mass_list))\n",
    "\n",
    "# iterates through all of masses and finds the wanted luminosities\n",
    "for i,S_mass in enumerate(mass_list):\n",
    "    \n",
    "    R_final2 = brentq(min_this,a = 0.0001, b = 1, args = (S_mass, delta_m, eta, xi, mu, pp_thing))\n",
    "\n",
    "    T_surf = Teff(S_mass)\n",
    "\n",
    "    Teff_list2[i] = T_surf\n",
    "\n",
    "    L_list2[i] = surface_luminosity(T_surf,R_final2*Rsun)/Lsun\n",
    "\n",
    "    Pc, rhoc, Tc = central_thermal(S_mass, R_final2, mu)\n",
    "\n",
    "    rhoc_list2[i] = 1000*rhoc/(100**3)\n",
    "\n",
    "    Tc_list2[i] = Tc\n",
    "\n",
    "    R_list2[i] = R_final2\n",
    "\n",
    "print(R_final2/R_final)\n",
    "print(L_list2[-1]/L_list[-1])"
   ]
  },
  {
   "cell_type": "markdown",
   "metadata": {},
   "source": [
    "We found that the radius has increaced by a factor of 2.75 and the luminosity has increased by a factor of 7.58. If this were to happen with our sun, it would mean that Earth is most definitely not going to be in our solar system's habitable zone, and we would not be able to survive on earth any longer. The surface temperture of the Earth would skyrocket."
   ]
  },
  {
   "cell_type": "code",
   "execution_count": null,
   "metadata": {},
   "outputs": [],
   "source": []
  }
 ],
 "metadata": {
  "kernelspec": {
   "display_name": "Python 3 (ipykernel)",
   "language": "python",
   "name": "python3"
  },
  "language_info": {
   "codemirror_mode": {
    "name": "ipython",
    "version": 3
   },
   "file_extension": ".py",
   "mimetype": "text/x-python",
   "name": "python",
   "nbconvert_exporter": "python",
   "pygments_lexer": "ipython3",
   "version": "3.9.12"
  },
  "vscode": {
   "interpreter": {
    "hash": "258996d679d8e259ac990df9fdfc128ec5eb77c39bd98f0b9ba2b9004f62dd43"
   }
  }
 },
 "nbformat": 4,
 "nbformat_minor": 2
}
